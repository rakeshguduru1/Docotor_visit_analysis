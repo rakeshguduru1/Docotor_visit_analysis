{
 "cells": [
  {
   "cell_type": "code",
   "execution_count": 2,
   "id": "2a16e05e",
   "metadata": {},
   "outputs": [],
   "source": [
    "import matplotlib.pyplot as plt\n",
    "import pandas as pd\n",
    "import numpy as np\n",
    "import seaborn as sns"
   ]
  },
  {
   "cell_type": "markdown",
   "id": "1db093b2",
   "metadata": {},
   "source": [
    "# Loading the dataset"
   ]
  },
  {
   "cell_type": "code",
   "execution_count": 3,
   "id": "949354ba",
   "metadata": {},
   "outputs": [
    {
     "name": "stdout",
     "output_type": "stream",
     "text": [
      "      Unnamed: 0  visits  gender   age  income  illness  reduced  health  \\\n",
      "0              1       1  female  0.19    0.55        1        4       1   \n",
      "1              2       1  female  0.19    0.45        1        2       1   \n",
      "2              3       1    male  0.19    0.90        3        0       0   \n",
      "3              4       1    male  0.19    0.15        1        0       0   \n",
      "4              5       1    male  0.19    0.45        2        5       1   \n",
      "...          ...     ...     ...   ...     ...      ...      ...     ...   \n",
      "5185        5186       0  female  0.22    0.55        0        0       0   \n",
      "5186        5187       0    male  0.27    1.30        0        0       1   \n",
      "5187        5188       0  female  0.37    0.25        1        0       1   \n",
      "5188        5189       0  female  0.52    0.65        0        0       0   \n",
      "5189        5190       0    male  0.72    0.25        0        0       0   \n",
      "\n",
      "     private freepoor freerepat nchronic lchronic  \n",
      "0        yes       no        no       no       no  \n",
      "1        yes       no        no       no       no  \n",
      "2         no       no        no       no       no  \n",
      "3         no       no        no       no       no  \n",
      "4         no       no        no      yes       no  \n",
      "...      ...      ...       ...      ...      ...  \n",
      "5185      no       no        no       no       no  \n",
      "5186      no       no        no       no       no  \n",
      "5187      no       no       yes       no       no  \n",
      "5188      no       no        no       no       no  \n",
      "5189      no       no       yes       no       no  \n",
      "\n",
      "[5190 rows x 13 columns]\n"
     ]
    }
   ],
   "source": [
    "df = pd.read_csv(\"DoctorVisits - DA.csv\")\n",
    "print(df)"
   ]
  },
  {
   "cell_type": "markdown",
   "id": "4552587b",
   "metadata": {},
   "source": [
    "## Reading the dataset"
   ]
  },
  {
   "cell_type": "code",
   "execution_count": 4,
   "id": "2b076a87",
   "metadata": {},
   "outputs": [
    {
     "data": {
      "text/html": [
       "<div>\n",
       "<style scoped>\n",
       "    .dataframe tbody tr th:only-of-type {\n",
       "        vertical-align: middle;\n",
       "    }\n",
       "\n",
       "    .dataframe tbody tr th {\n",
       "        vertical-align: top;\n",
       "    }\n",
       "\n",
       "    .dataframe thead th {\n",
       "        text-align: right;\n",
       "    }\n",
       "</style>\n",
       "<table border=\"1\" class=\"dataframe\">\n",
       "  <thead>\n",
       "    <tr style=\"text-align: right;\">\n",
       "      <th></th>\n",
       "      <th>Unnamed: 0</th>\n",
       "      <th>visits</th>\n",
       "      <th>gender</th>\n",
       "      <th>age</th>\n",
       "      <th>income</th>\n",
       "      <th>illness</th>\n",
       "      <th>reduced</th>\n",
       "      <th>health</th>\n",
       "      <th>private</th>\n",
       "      <th>freepoor</th>\n",
       "      <th>freerepat</th>\n",
       "      <th>nchronic</th>\n",
       "      <th>lchronic</th>\n",
       "    </tr>\n",
       "  </thead>\n",
       "  <tbody>\n",
       "    <tr>\n",
       "      <th>0</th>\n",
       "      <td>1</td>\n",
       "      <td>1</td>\n",
       "      <td>female</td>\n",
       "      <td>0.19</td>\n",
       "      <td>0.55</td>\n",
       "      <td>1</td>\n",
       "      <td>4</td>\n",
       "      <td>1</td>\n",
       "      <td>yes</td>\n",
       "      <td>no</td>\n",
       "      <td>no</td>\n",
       "      <td>no</td>\n",
       "      <td>no</td>\n",
       "    </tr>\n",
       "    <tr>\n",
       "      <th>1</th>\n",
       "      <td>2</td>\n",
       "      <td>1</td>\n",
       "      <td>female</td>\n",
       "      <td>0.19</td>\n",
       "      <td>0.45</td>\n",
       "      <td>1</td>\n",
       "      <td>2</td>\n",
       "      <td>1</td>\n",
       "      <td>yes</td>\n",
       "      <td>no</td>\n",
       "      <td>no</td>\n",
       "      <td>no</td>\n",
       "      <td>no</td>\n",
       "    </tr>\n",
       "    <tr>\n",
       "      <th>2</th>\n",
       "      <td>3</td>\n",
       "      <td>1</td>\n",
       "      <td>male</td>\n",
       "      <td>0.19</td>\n",
       "      <td>0.90</td>\n",
       "      <td>3</td>\n",
       "      <td>0</td>\n",
       "      <td>0</td>\n",
       "      <td>no</td>\n",
       "      <td>no</td>\n",
       "      <td>no</td>\n",
       "      <td>no</td>\n",
       "      <td>no</td>\n",
       "    </tr>\n",
       "    <tr>\n",
       "      <th>3</th>\n",
       "      <td>4</td>\n",
       "      <td>1</td>\n",
       "      <td>male</td>\n",
       "      <td>0.19</td>\n",
       "      <td>0.15</td>\n",
       "      <td>1</td>\n",
       "      <td>0</td>\n",
       "      <td>0</td>\n",
       "      <td>no</td>\n",
       "      <td>no</td>\n",
       "      <td>no</td>\n",
       "      <td>no</td>\n",
       "      <td>no</td>\n",
       "    </tr>\n",
       "    <tr>\n",
       "      <th>4</th>\n",
       "      <td>5</td>\n",
       "      <td>1</td>\n",
       "      <td>male</td>\n",
       "      <td>0.19</td>\n",
       "      <td>0.45</td>\n",
       "      <td>2</td>\n",
       "      <td>5</td>\n",
       "      <td>1</td>\n",
       "      <td>no</td>\n",
       "      <td>no</td>\n",
       "      <td>no</td>\n",
       "      <td>yes</td>\n",
       "      <td>no</td>\n",
       "    </tr>\n",
       "  </tbody>\n",
       "</table>\n",
       "</div>"
      ],
      "text/plain": [
       "   Unnamed: 0  visits  gender   age  income  illness  reduced  health private  \\\n",
       "0           1       1  female  0.19    0.55        1        4       1     yes   \n",
       "1           2       1  female  0.19    0.45        1        2       1     yes   \n",
       "2           3       1    male  0.19    0.90        3        0       0      no   \n",
       "3           4       1    male  0.19    0.15        1        0       0      no   \n",
       "4           5       1    male  0.19    0.45        2        5       1      no   \n",
       "\n",
       "  freepoor freerepat nchronic lchronic  \n",
       "0       no        no       no       no  \n",
       "1       no        no       no       no  \n",
       "2       no        no       no       no  \n",
       "3       no        no       no       no  \n",
       "4       no        no      yes       no  "
      ]
     },
     "execution_count": 4,
     "metadata": {},
     "output_type": "execute_result"
    }
   ],
   "source": [
    "df.head()"
   ]
  },
  {
   "cell_type": "code",
   "execution_count": 5,
   "id": "f67ebc17",
   "metadata": {},
   "outputs": [
    {
     "data": {
      "text/plain": [
       "array([1, 3, 2, 5, 4, 0], dtype=int64)"
      ]
     },
     "execution_count": 5,
     "metadata": {},
     "output_type": "execute_result"
    }
   ],
   "source": [
    "df[\"illness\"].unique()"
   ]
  },
  {
   "cell_type": "code",
   "execution_count": 7,
   "id": "3c59a7e0",
   "metadata": {},
   "outputs": [
    {
     "data": {
      "text/html": [
       "<div>\n",
       "<style scoped>\n",
       "    .dataframe tbody tr th:only-of-type {\n",
       "        vertical-align: middle;\n",
       "    }\n",
       "\n",
       "    .dataframe tbody tr th {\n",
       "        vertical-align: top;\n",
       "    }\n",
       "\n",
       "    .dataframe thead th {\n",
       "        text-align: right;\n",
       "    }\n",
       "</style>\n",
       "<table border=\"1\" class=\"dataframe\">\n",
       "  <thead>\n",
       "    <tr style=\"text-align: right;\">\n",
       "      <th></th>\n",
       "      <th>Unnamed: 0</th>\n",
       "      <th>visits</th>\n",
       "      <th>gender</th>\n",
       "      <th>age</th>\n",
       "      <th>income</th>\n",
       "      <th>illness</th>\n",
       "      <th>reduced</th>\n",
       "      <th>health</th>\n",
       "      <th>private</th>\n",
       "      <th>freepoor</th>\n",
       "      <th>freerepat</th>\n",
       "      <th>nchronic</th>\n",
       "      <th>lchronic</th>\n",
       "    </tr>\n",
       "  </thead>\n",
       "  <tbody>\n",
       "    <tr>\n",
       "      <th>0</th>\n",
       "      <td>1</td>\n",
       "      <td>1</td>\n",
       "      <td>female</td>\n",
       "      <td>0.19</td>\n",
       "      <td>0.55</td>\n",
       "      <td>1</td>\n",
       "      <td>4</td>\n",
       "      <td>1</td>\n",
       "      <td>yes</td>\n",
       "      <td>no</td>\n",
       "      <td>no</td>\n",
       "      <td>no</td>\n",
       "      <td>no</td>\n",
       "    </tr>\n",
       "    <tr>\n",
       "      <th>1</th>\n",
       "      <td>2</td>\n",
       "      <td>1</td>\n",
       "      <td>female</td>\n",
       "      <td>0.19</td>\n",
       "      <td>0.45</td>\n",
       "      <td>1</td>\n",
       "      <td>2</td>\n",
       "      <td>1</td>\n",
       "      <td>yes</td>\n",
       "      <td>no</td>\n",
       "      <td>no</td>\n",
       "      <td>no</td>\n",
       "      <td>no</td>\n",
       "    </tr>\n",
       "    <tr>\n",
       "      <th>2</th>\n",
       "      <td>3</td>\n",
       "      <td>1</td>\n",
       "      <td>male</td>\n",
       "      <td>0.19</td>\n",
       "      <td>0.90</td>\n",
       "      <td>3</td>\n",
       "      <td>0</td>\n",
       "      <td>0</td>\n",
       "      <td>no</td>\n",
       "      <td>no</td>\n",
       "      <td>no</td>\n",
       "      <td>no</td>\n",
       "      <td>no</td>\n",
       "    </tr>\n",
       "    <tr>\n",
       "      <th>3</th>\n",
       "      <td>4</td>\n",
       "      <td>1</td>\n",
       "      <td>male</td>\n",
       "      <td>0.19</td>\n",
       "      <td>0.15</td>\n",
       "      <td>1</td>\n",
       "      <td>0</td>\n",
       "      <td>0</td>\n",
       "      <td>no</td>\n",
       "      <td>no</td>\n",
       "      <td>no</td>\n",
       "      <td>no</td>\n",
       "      <td>no</td>\n",
       "    </tr>\n",
       "    <tr>\n",
       "      <th>4</th>\n",
       "      <td>5</td>\n",
       "      <td>1</td>\n",
       "      <td>male</td>\n",
       "      <td>0.19</td>\n",
       "      <td>0.45</td>\n",
       "      <td>2</td>\n",
       "      <td>5</td>\n",
       "      <td>1</td>\n",
       "      <td>no</td>\n",
       "      <td>no</td>\n",
       "      <td>no</td>\n",
       "      <td>yes</td>\n",
       "      <td>no</td>\n",
       "    </tr>\n",
       "    <tr>\n",
       "      <th>5</th>\n",
       "      <td>6</td>\n",
       "      <td>1</td>\n",
       "      <td>female</td>\n",
       "      <td>0.19</td>\n",
       "      <td>0.35</td>\n",
       "      <td>5</td>\n",
       "      <td>1</td>\n",
       "      <td>9</td>\n",
       "      <td>no</td>\n",
       "      <td>no</td>\n",
       "      <td>no</td>\n",
       "      <td>yes</td>\n",
       "      <td>no</td>\n",
       "    </tr>\n",
       "    <tr>\n",
       "      <th>6</th>\n",
       "      <td>7</td>\n",
       "      <td>1</td>\n",
       "      <td>female</td>\n",
       "      <td>0.19</td>\n",
       "      <td>0.55</td>\n",
       "      <td>4</td>\n",
       "      <td>0</td>\n",
       "      <td>2</td>\n",
       "      <td>no</td>\n",
       "      <td>no</td>\n",
       "      <td>no</td>\n",
       "      <td>no</td>\n",
       "      <td>no</td>\n",
       "    </tr>\n",
       "    <tr>\n",
       "      <th>7</th>\n",
       "      <td>8</td>\n",
       "      <td>1</td>\n",
       "      <td>female</td>\n",
       "      <td>0.19</td>\n",
       "      <td>0.15</td>\n",
       "      <td>3</td>\n",
       "      <td>0</td>\n",
       "      <td>6</td>\n",
       "      <td>no</td>\n",
       "      <td>no</td>\n",
       "      <td>no</td>\n",
       "      <td>no</td>\n",
       "      <td>no</td>\n",
       "    </tr>\n",
       "    <tr>\n",
       "      <th>8</th>\n",
       "      <td>9</td>\n",
       "      <td>1</td>\n",
       "      <td>female</td>\n",
       "      <td>0.19</td>\n",
       "      <td>0.65</td>\n",
       "      <td>2</td>\n",
       "      <td>0</td>\n",
       "      <td>5</td>\n",
       "      <td>yes</td>\n",
       "      <td>no</td>\n",
       "      <td>no</td>\n",
       "      <td>no</td>\n",
       "      <td>no</td>\n",
       "    </tr>\n",
       "    <tr>\n",
       "      <th>9</th>\n",
       "      <td>10</td>\n",
       "      <td>1</td>\n",
       "      <td>male</td>\n",
       "      <td>0.19</td>\n",
       "      <td>0.15</td>\n",
       "      <td>1</td>\n",
       "      <td>0</td>\n",
       "      <td>0</td>\n",
       "      <td>yes</td>\n",
       "      <td>no</td>\n",
       "      <td>no</td>\n",
       "      <td>no</td>\n",
       "      <td>no</td>\n",
       "    </tr>\n",
       "    <tr>\n",
       "      <th>10</th>\n",
       "      <td>11</td>\n",
       "      <td>1</td>\n",
       "      <td>male</td>\n",
       "      <td>0.19</td>\n",
       "      <td>0.45</td>\n",
       "      <td>1</td>\n",
       "      <td>0</td>\n",
       "      <td>0</td>\n",
       "      <td>no</td>\n",
       "      <td>no</td>\n",
       "      <td>no</td>\n",
       "      <td>no</td>\n",
       "      <td>no</td>\n",
       "    </tr>\n",
       "    <tr>\n",
       "      <th>11</th>\n",
       "      <td>12</td>\n",
       "      <td>1</td>\n",
       "      <td>male</td>\n",
       "      <td>0.19</td>\n",
       "      <td>0.25</td>\n",
       "      <td>2</td>\n",
       "      <td>0</td>\n",
       "      <td>2</td>\n",
       "      <td>no</td>\n",
       "      <td>no</td>\n",
       "      <td>yes</td>\n",
       "      <td>no</td>\n",
       "      <td>no</td>\n",
       "    </tr>\n",
       "    <tr>\n",
       "      <th>12</th>\n",
       "      <td>13</td>\n",
       "      <td>2</td>\n",
       "      <td>male</td>\n",
       "      <td>0.19</td>\n",
       "      <td>0.55</td>\n",
       "      <td>3</td>\n",
       "      <td>13</td>\n",
       "      <td>1</td>\n",
       "      <td>no</td>\n",
       "      <td>no</td>\n",
       "      <td>no</td>\n",
       "      <td>yes</td>\n",
       "      <td>no</td>\n",
       "    </tr>\n",
       "    <tr>\n",
       "      <th>13</th>\n",
       "      <td>14</td>\n",
       "      <td>1</td>\n",
       "      <td>male</td>\n",
       "      <td>0.19</td>\n",
       "      <td>0.45</td>\n",
       "      <td>4</td>\n",
       "      <td>7</td>\n",
       "      <td>6</td>\n",
       "      <td>no</td>\n",
       "      <td>no</td>\n",
       "      <td>no</td>\n",
       "      <td>yes</td>\n",
       "      <td>no</td>\n",
       "    </tr>\n",
       "    <tr>\n",
       "      <th>14</th>\n",
       "      <td>15</td>\n",
       "      <td>1</td>\n",
       "      <td>male</td>\n",
       "      <td>0.19</td>\n",
       "      <td>0.25</td>\n",
       "      <td>3</td>\n",
       "      <td>1</td>\n",
       "      <td>0</td>\n",
       "      <td>yes</td>\n",
       "      <td>no</td>\n",
       "      <td>no</td>\n",
       "      <td>yes</td>\n",
       "      <td>no</td>\n",
       "    </tr>\n",
       "    <tr>\n",
       "      <th>15</th>\n",
       "      <td>16</td>\n",
       "      <td>1</td>\n",
       "      <td>male</td>\n",
       "      <td>0.19</td>\n",
       "      <td>0.55</td>\n",
       "      <td>2</td>\n",
       "      <td>0</td>\n",
       "      <td>7</td>\n",
       "      <td>no</td>\n",
       "      <td>no</td>\n",
       "      <td>no</td>\n",
       "      <td>no</td>\n",
       "      <td>no</td>\n",
       "    </tr>\n",
       "    <tr>\n",
       "      <th>16</th>\n",
       "      <td>17</td>\n",
       "      <td>2</td>\n",
       "      <td>male</td>\n",
       "      <td>0.19</td>\n",
       "      <td>0.45</td>\n",
       "      <td>1</td>\n",
       "      <td>0</td>\n",
       "      <td>5</td>\n",
       "      <td>yes</td>\n",
       "      <td>no</td>\n",
       "      <td>no</td>\n",
       "      <td>no</td>\n",
       "      <td>no</td>\n",
       "    </tr>\n",
       "    <tr>\n",
       "      <th>17</th>\n",
       "      <td>18</td>\n",
       "      <td>1</td>\n",
       "      <td>female</td>\n",
       "      <td>0.19</td>\n",
       "      <td>0.45</td>\n",
       "      <td>1</td>\n",
       "      <td>1</td>\n",
       "      <td>0</td>\n",
       "      <td>no</td>\n",
       "      <td>no</td>\n",
       "      <td>no</td>\n",
       "      <td>yes</td>\n",
       "      <td>no</td>\n",
       "    </tr>\n",
       "    <tr>\n",
       "      <th>18</th>\n",
       "      <td>19</td>\n",
       "      <td>2</td>\n",
       "      <td>female</td>\n",
       "      <td>0.19</td>\n",
       "      <td>0.45</td>\n",
       "      <td>1</td>\n",
       "      <td>0</td>\n",
       "      <td>0</td>\n",
       "      <td>yes</td>\n",
       "      <td>no</td>\n",
       "      <td>no</td>\n",
       "      <td>no</td>\n",
       "      <td>no</td>\n",
       "    </tr>\n",
       "    <tr>\n",
       "      <th>19</th>\n",
       "      <td>20</td>\n",
       "      <td>1</td>\n",
       "      <td>female</td>\n",
       "      <td>0.19</td>\n",
       "      <td>0.35</td>\n",
       "      <td>1</td>\n",
       "      <td>0</td>\n",
       "      <td>0</td>\n",
       "      <td>yes</td>\n",
       "      <td>no</td>\n",
       "      <td>no</td>\n",
       "      <td>no</td>\n",
       "      <td>no</td>\n",
       "    </tr>\n",
       "  </tbody>\n",
       "</table>\n",
       "</div>"
      ],
      "text/plain": [
       "    Unnamed: 0  visits  gender   age  income  illness  reduced  health  \\\n",
       "0            1       1  female  0.19    0.55        1        4       1   \n",
       "1            2       1  female  0.19    0.45        1        2       1   \n",
       "2            3       1    male  0.19    0.90        3        0       0   \n",
       "3            4       1    male  0.19    0.15        1        0       0   \n",
       "4            5       1    male  0.19    0.45        2        5       1   \n",
       "5            6       1  female  0.19    0.35        5        1       9   \n",
       "6            7       1  female  0.19    0.55        4        0       2   \n",
       "7            8       1  female  0.19    0.15        3        0       6   \n",
       "8            9       1  female  0.19    0.65        2        0       5   \n",
       "9           10       1    male  0.19    0.15        1        0       0   \n",
       "10          11       1    male  0.19    0.45        1        0       0   \n",
       "11          12       1    male  0.19    0.25        2        0       2   \n",
       "12          13       2    male  0.19    0.55        3       13       1   \n",
       "13          14       1    male  0.19    0.45        4        7       6   \n",
       "14          15       1    male  0.19    0.25        3        1       0   \n",
       "15          16       1    male  0.19    0.55        2        0       7   \n",
       "16          17       2    male  0.19    0.45        1        0       5   \n",
       "17          18       1  female  0.19    0.45        1        1       0   \n",
       "18          19       2  female  0.19    0.45        1        0       0   \n",
       "19          20       1  female  0.19    0.35        1        0       0   \n",
       "\n",
       "   private freepoor freerepat nchronic lchronic  \n",
       "0      yes       no        no       no       no  \n",
       "1      yes       no        no       no       no  \n",
       "2       no       no        no       no       no  \n",
       "3       no       no        no       no       no  \n",
       "4       no       no        no      yes       no  \n",
       "5       no       no        no      yes       no  \n",
       "6       no       no        no       no       no  \n",
       "7       no       no        no       no       no  \n",
       "8      yes       no        no       no       no  \n",
       "9      yes       no        no       no       no  \n",
       "10      no       no        no       no       no  \n",
       "11      no       no       yes       no       no  \n",
       "12      no       no        no      yes       no  \n",
       "13      no       no        no      yes       no  \n",
       "14     yes       no        no      yes       no  \n",
       "15      no       no        no       no       no  \n",
       "16     yes       no        no       no       no  \n",
       "17      no       no        no      yes       no  \n",
       "18     yes       no        no       no       no  \n",
       "19     yes       no        no       no       no  "
      ]
     },
     "execution_count": 7,
     "metadata": {},
     "output_type": "execute_result"
    }
   ],
   "source": [
    "df.head(20)"
   ]
  },
  {
   "cell_type": "markdown",
   "id": "6aaa9eba",
   "metadata": {},
   "source": [
    "## Displaying the information of dataset like name of the columns and their data types "
   ]
  },
  {
   "cell_type": "code",
   "execution_count": 8,
   "id": "3bf2a811",
   "metadata": {},
   "outputs": [
    {
     "name": "stdout",
     "output_type": "stream",
     "text": [
      "<class 'pandas.core.frame.DataFrame'>\n",
      "RangeIndex: 5190 entries, 0 to 5189\n",
      "Data columns (total 13 columns):\n",
      " #   Column      Non-Null Count  Dtype  \n",
      "---  ------      --------------  -----  \n",
      " 0   Unnamed: 0  5190 non-null   int64  \n",
      " 1   visits      5190 non-null   int64  \n",
      " 2   gender      5190 non-null   object \n",
      " 3   age         5190 non-null   float64\n",
      " 4   income      5190 non-null   float64\n",
      " 5   illness     5190 non-null   int64  \n",
      " 6   reduced     5190 non-null   int64  \n",
      " 7   health      5190 non-null   int64  \n",
      " 8   private     5190 non-null   object \n",
      " 9   freepoor    5190 non-null   object \n",
      " 10  freerepat   5190 non-null   object \n",
      " 11  nchronic    5190 non-null   object \n",
      " 12  lchronic    5190 non-null   object \n",
      "dtypes: float64(2), int64(5), object(6)\n",
      "memory usage: 527.2+ KB\n"
     ]
    }
   ],
   "source": [
    "df.info()"
   ]
  },
  {
   "cell_type": "markdown",
   "id": "485baa59",
   "metadata": {},
   "source": [
    "## Classifying the people based on attributes"
   ]
  },
  {
   "cell_type": "code",
   "execution_count": 9,
   "id": "32bdcd15",
   "metadata": {},
   "outputs": [
    {
     "data": {
      "text/plain": [
       "female    2702\n",
       "male      2488\n",
       "Name: gender, dtype: int64"
      ]
     },
     "execution_count": 9,
     "metadata": {},
     "output_type": "execute_result"
    }
   ],
   "source": [
    "df[\"gender\"].value_counts()"
   ]
  },
  {
   "cell_type": "code",
   "execution_count": 10,
   "id": "4eeed73a",
   "metadata": {},
   "outputs": [
    {
     "data": {
      "text/plain": [
       "1    1638\n",
       "0    1554\n",
       "2     946\n",
       "3     542\n",
       "4     274\n",
       "5     236\n",
       "Name: illness, dtype: int64"
      ]
     },
     "execution_count": 10,
     "metadata": {},
     "output_type": "execute_result"
    }
   ],
   "source": [
    "df[\"illness\"].value_counts()"
   ]
  },
  {
   "cell_type": "code",
   "execution_count": 11,
   "id": "9a3b0b04",
   "metadata": {},
   "outputs": [
    {
     "data": {
      "text/plain": [
       "0     3026\n",
       "1      823\n",
       "2      446\n",
       "3      273\n",
       "4      187\n",
       "5      132\n",
       "6      104\n",
       "7       61\n",
       "8       42\n",
       "9       32\n",
       "11      24\n",
       "10      21\n",
       "12      19\n",
       "Name: health, dtype: int64"
      ]
     },
     "execution_count": 11,
     "metadata": {},
     "output_type": "execute_result"
    }
   ],
   "source": [
    "df[\"health\"].value_counts()"
   ]
  },
  {
   "cell_type": "code",
   "execution_count": 12,
   "id": "44da1e74",
   "metadata": {},
   "outputs": [
    {
     "data": {
      "text/plain": [
       "0.22    1213\n",
       "0.72     822\n",
       "0.19     752\n",
       "0.27     523\n",
       "0.62     316\n",
       "0.67     315\n",
       "0.32     301\n",
       "0.57     273\n",
       "0.52     222\n",
       "0.47     181\n",
       "0.37     146\n",
       "0.42     126\n",
       "Name: age, dtype: int64"
      ]
     },
     "execution_count": 12,
     "metadata": {},
     "output_type": "execute_result"
    }
   ],
   "source": [
    "df[\"age\"].value_counts()"
   ]
  },
  {
   "cell_type": "code",
   "execution_count": 13,
   "id": "a5c3d4cc",
   "metadata": {},
   "outputs": [
    {
     "data": {
      "text/plain": [
       "0.25    1195\n",
       "0.90     589\n",
       "0.55     467\n",
       "0.35     462\n",
       "0.65     455\n",
       "0.75     441\n",
       "0.45     400\n",
       "1.10     361\n",
       "0.15     249\n",
       "1.50     215\n",
       "1.30     162\n",
       "0.06      80\n",
       "0.00      79\n",
       "0.01      35\n",
       "Name: income, dtype: int64"
      ]
     },
     "execution_count": 13,
     "metadata": {},
     "output_type": "execute_result"
    }
   ],
   "source": [
    "df['income'].value_counts()"
   ]
  },
  {
   "cell_type": "markdown",
   "id": "9bcc0a25",
   "metadata": {},
   "source": [
    "## Visualizing the income through graphs"
   ]
  },
  {
   "cell_type": "code",
   "execution_count": 14,
   "id": "a8592ab2",
   "metadata": {},
   "outputs": [
    {
     "data": {
      "image/png": "[encoded data removed]",
      "text/plain": [
       "<Figure size 640x480 with 1 Axes>"
      ]
     },
     "metadata": {},
     "output_type": "display_data"
    }
   ],
   "source": [
    "y = list(df.income)\n",
    "plt.boxplot(y)\n",
    "plt.show()"
   ]
  },
  {
   "cell_type": "markdown",
   "id": "42374dcf",
   "metadata": {},
   "source": [
    "## Checking the relation for reduced activity due to the sickness"
   ]
  },
  {
   "cell_type": "code",
   "execution_count": 15,
   "id": "354d081c",
   "metadata": {},
   "outputs": [
    {
     "name": "stderr",
     "output_type": "stream",
     "text": [
      "C:\\Users\\rakes\\AppData\\Local\\Temp\\ipykernel_15720\\1883727358.py:1: FutureWarning: The default value of numeric_only in DataFrameGroupBy.mean is deprecated. In a future version, numeric_only will default to False. Either specify numeric_only or select only columns which should be valid for the function.\n",
      "  df.groupby(['gender','reduced']).mean()\n"
     ]
    },
    {
     "data": {
      "text/html": [
       "<div>\n",
       "<style scoped>\n",
       "    .dataframe tbody tr th:only-of-type {\n",
       "        vertical-align: middle;\n",
       "    }\n",
       "\n",
       "    .dataframe tbody tr th {\n",
       "        vertical-align: top;\n",
       "    }\n",
       "\n",
       "    .dataframe thead th {\n",
       "        text-align: right;\n",
       "    }\n",
       "</style>\n",
       "<table border=\"1\" class=\"dataframe\">\n",
       "  <thead>\n",
       "    <tr style=\"text-align: right;\">\n",
       "      <th></th>\n",
       "      <th></th>\n",
       "      <th>Unnamed: 0</th>\n",
       "      <th>visits</th>\n",
       "      <th>age</th>\n",
       "      <th>income</th>\n",
       "      <th>illness</th>\n",
       "      <th>health</th>\n",
       "    </tr>\n",
       "    <tr>\n",
       "      <th>gender</th>\n",
       "      <th>reduced</th>\n",
       "      <th></th>\n",
       "      <th></th>\n",
       "      <th></th>\n",
       "      <th></th>\n",
       "      <th></th>\n",
       "      <th></th>\n",
       "    </tr>\n",
       "  </thead>\n",
       "  <tbody>\n",
       "    <tr>\n",
       "      <th rowspan=\"14\" valign=\"top\">female</th>\n",
       "      <th>0</th>\n",
       "      <td>2524.038512</td>\n",
       "      <td>0.229322</td>\n",
       "      <td>0.465755</td>\n",
       "      <td>0.482735</td>\n",
       "      <td>1.462144</td>\n",
       "      <td>1.115098</td>\n",
       "    </tr>\n",
       "    <tr>\n",
       "      <th>1</th>\n",
       "      <td>1985.768421</td>\n",
       "      <td>0.400000</td>\n",
       "      <td>0.325684</td>\n",
       "      <td>0.542105</td>\n",
       "      <td>2.242105</td>\n",
       "      <td>1.610526</td>\n",
       "    </tr>\n",
       "    <tr>\n",
       "      <th>2</th>\n",
       "      <td>1622.618182</td>\n",
       "      <td>0.672727</td>\n",
       "      <td>0.391455</td>\n",
       "      <td>0.560182</td>\n",
       "      <td>2.236364</td>\n",
       "      <td>1.781818</td>\n",
       "    </tr>\n",
       "    <tr>\n",
       "      <th>3</th>\n",
       "      <td>997.311111</td>\n",
       "      <td>1.333333</td>\n",
       "      <td>0.403111</td>\n",
       "      <td>0.516000</td>\n",
       "      <td>2.733333</td>\n",
       "      <td>1.733333</td>\n",
       "    </tr>\n",
       "    <tr>\n",
       "      <th>4</th>\n",
       "      <td>1237.740741</td>\n",
       "      <td>0.851852</td>\n",
       "      <td>0.458889</td>\n",
       "      <td>0.466667</td>\n",
       "      <td>2.222222</td>\n",
       "      <td>2.074074</td>\n",
       "    </tr>\n",
       "    <tr>\n",
       "      <th>5</th>\n",
       "      <td>1169.055556</td>\n",
       "      <td>1.444444</td>\n",
       "      <td>0.401667</td>\n",
       "      <td>0.614444</td>\n",
       "      <td>2.222222</td>\n",
       "      <td>2.500000</td>\n",
       "    </tr>\n",
       "    <tr>\n",
       "      <th>6</th>\n",
       "      <td>1382.545455</td>\n",
       "      <td>1.363636</td>\n",
       "      <td>0.426364</td>\n",
       "      <td>0.622727</td>\n",
       "      <td>2.363636</td>\n",
       "      <td>1.363636</td>\n",
       "    </tr>\n",
       "    <tr>\n",
       "      <th>7</th>\n",
       "      <td>1034.846154</td>\n",
       "      <td>1.384615</td>\n",
       "      <td>0.436154</td>\n",
       "      <td>0.473462</td>\n",
       "      <td>2.653846</td>\n",
       "      <td>2.230769</td>\n",
       "    </tr>\n",
       "    <tr>\n",
       "      <th>8</th>\n",
       "      <td>1883.090909</td>\n",
       "      <td>1.090909</td>\n",
       "      <td>0.471818</td>\n",
       "      <td>0.404545</td>\n",
       "      <td>2.181818</td>\n",
       "      <td>4.000000</td>\n",
       "    </tr>\n",
       "    <tr>\n",
       "      <th>9</th>\n",
       "      <td>1349.000000</td>\n",
       "      <td>0.500000</td>\n",
       "      <td>0.570000</td>\n",
       "      <td>0.825000</td>\n",
       "      <td>3.000000</td>\n",
       "      <td>1.000000</td>\n",
       "    </tr>\n",
       "    <tr>\n",
       "      <th>10</th>\n",
       "      <td>1099.428571</td>\n",
       "      <td>2.142857</td>\n",
       "      <td>0.512857</td>\n",
       "      <td>0.421429</td>\n",
       "      <td>2.571429</td>\n",
       "      <td>2.000000</td>\n",
       "    </tr>\n",
       "    <tr>\n",
       "      <th>12</th>\n",
       "      <td>1661.000000</td>\n",
       "      <td>2.000000</td>\n",
       "      <td>0.720000</td>\n",
       "      <td>0.250000</td>\n",
       "      <td>3.500000</td>\n",
       "      <td>5.500000</td>\n",
       "    </tr>\n",
       "    <tr>\n",
       "      <th>13</th>\n",
       "      <td>906.000000</td>\n",
       "      <td>4.000000</td>\n",
       "      <td>0.720000</td>\n",
       "      <td>0.300000</td>\n",
       "      <td>4.500000</td>\n",
       "      <td>3.500000</td>\n",
       "    </tr>\n",
       "    <tr>\n",
       "      <th>14</th>\n",
       "      <td>1392.112069</td>\n",
       "      <td>1.543103</td>\n",
       "      <td>0.551724</td>\n",
       "      <td>0.427586</td>\n",
       "      <td>2.534483</td>\n",
       "      <td>4.112069</td>\n",
       "    </tr>\n",
       "    <tr>\n",
       "      <th rowspan=\"15\" valign=\"top\">male</th>\n",
       "      <th>0</th>\n",
       "      <td>3008.911019</td>\n",
       "      <td>0.136007</td>\n",
       "      <td>0.344703</td>\n",
       "      <td>0.694398</td>\n",
       "      <td>1.099585</td>\n",
       "      <td>0.924850</td>\n",
       "    </tr>\n",
       "    <tr>\n",
       "      <th>1</th>\n",
       "      <td>2485.158537</td>\n",
       "      <td>0.304878</td>\n",
       "      <td>0.286220</td>\n",
       "      <td>0.676341</td>\n",
       "      <td>1.743902</td>\n",
       "      <td>1.256098</td>\n",
       "    </tr>\n",
       "    <tr>\n",
       "      <th>2</th>\n",
       "      <td>2007.679245</td>\n",
       "      <td>0.471698</td>\n",
       "      <td>0.343585</td>\n",
       "      <td>0.653019</td>\n",
       "      <td>2.358491</td>\n",
       "      <td>1.547170</td>\n",
       "    </tr>\n",
       "    <tr>\n",
       "      <th>3</th>\n",
       "      <td>1909.068966</td>\n",
       "      <td>0.724138</td>\n",
       "      <td>0.334138</td>\n",
       "      <td>0.741379</td>\n",
       "      <td>2.137931</td>\n",
       "      <td>1.689655</td>\n",
       "    </tr>\n",
       "    <tr>\n",
       "      <th>4</th>\n",
       "      <td>1424.000000</td>\n",
       "      <td>0.722222</td>\n",
       "      <td>0.309444</td>\n",
       "      <td>0.869444</td>\n",
       "      <td>2.055556</td>\n",
       "      <td>2.000000</td>\n",
       "    </tr>\n",
       "    <tr>\n",
       "      <th>5</th>\n",
       "      <td>1437.272727</td>\n",
       "      <td>1.136364</td>\n",
       "      <td>0.331818</td>\n",
       "      <td>0.570455</td>\n",
       "      <td>2.272727</td>\n",
       "      <td>2.818182</td>\n",
       "    </tr>\n",
       "    <tr>\n",
       "      <th>6</th>\n",
       "      <td>562.000000</td>\n",
       "      <td>0.833333</td>\n",
       "      <td>0.340000</td>\n",
       "      <td>0.591667</td>\n",
       "      <td>2.500000</td>\n",
       "      <td>2.000000</td>\n",
       "    </tr>\n",
       "    <tr>\n",
       "      <th>7</th>\n",
       "      <td>1716.750000</td>\n",
       "      <td>0.750000</td>\n",
       "      <td>0.314167</td>\n",
       "      <td>0.655000</td>\n",
       "      <td>2.583333</td>\n",
       "      <td>4.333333</td>\n",
       "    </tr>\n",
       "    <tr>\n",
       "      <th>8</th>\n",
       "      <td>680.666667</td>\n",
       "      <td>1.333333</td>\n",
       "      <td>0.365000</td>\n",
       "      <td>0.833333</td>\n",
       "      <td>2.666667</td>\n",
       "      <td>2.000000</td>\n",
       "    </tr>\n",
       "    <tr>\n",
       "      <th>9</th>\n",
       "      <td>1375.400000</td>\n",
       "      <td>2.200000</td>\n",
       "      <td>0.310000</td>\n",
       "      <td>0.392000</td>\n",
       "      <td>2.400000</td>\n",
       "      <td>2.000000</td>\n",
       "    </tr>\n",
       "    <tr>\n",
       "      <th>10</th>\n",
       "      <td>1543.200000</td>\n",
       "      <td>1.800000</td>\n",
       "      <td>0.480000</td>\n",
       "      <td>0.590000</td>\n",
       "      <td>2.600000</td>\n",
       "      <td>4.600000</td>\n",
       "    </tr>\n",
       "    <tr>\n",
       "      <th>11</th>\n",
       "      <td>355.500000</td>\n",
       "      <td>5.000000</td>\n",
       "      <td>0.320000</td>\n",
       "      <td>1.000000</td>\n",
       "      <td>1.500000</td>\n",
       "      <td>0.500000</td>\n",
       "    </tr>\n",
       "    <tr>\n",
       "      <th>12</th>\n",
       "      <td>781.500000</td>\n",
       "      <td>2.000000</td>\n",
       "      <td>0.370000</td>\n",
       "      <td>0.515000</td>\n",
       "      <td>1.500000</td>\n",
       "      <td>1.000000</td>\n",
       "    </tr>\n",
       "    <tr>\n",
       "      <th>13</th>\n",
       "      <td>508.666667</td>\n",
       "      <td>4.000000</td>\n",
       "      <td>0.510000</td>\n",
       "      <td>0.350000</td>\n",
       "      <td>3.333333</td>\n",
       "      <td>2.333333</td>\n",
       "    </tr>\n",
       "    <tr>\n",
       "      <th>14</th>\n",
       "      <td>1236.069444</td>\n",
       "      <td>1.555556</td>\n",
       "      <td>0.476806</td>\n",
       "      <td>0.598611</td>\n",
       "      <td>2.375000</td>\n",
       "      <td>3.527778</td>\n",
       "    </tr>\n",
       "  </tbody>\n",
       "</table>\n",
       "</div>"
      ],
      "text/plain": [
       "                 Unnamed: 0    visits       age    income   illness    health\n",
       "gender reduced                                                               \n",
       "female 0        2524.038512  0.229322  0.465755  0.482735  1.462144  1.115098\n",
       "       1        1985.768421  0.400000  0.325684  0.542105  2.242105  1.610526\n",
       "       2        1622.618182  0.672727  0.391455  0.560182  2.236364  1.781818\n",
       "       3         997.311111  1.333333  0.403111  0.516000  2.733333  1.733333\n",
       "       4        1237.740741  0.851852  0.458889  0.466667  2.222222  2.074074\n",
       "       5        1169.055556  1.444444  0.401667  0.614444  2.222222  2.500000\n",
       "       6        1382.545455  1.363636  0.426364  0.622727  2.363636  1.363636\n",
       "       7        1034.846154  1.384615  0.436154  0.473462  2.653846  2.230769\n",
       "       8        1883.090909  1.090909  0.471818  0.404545  2.181818  4.000000\n",
       "       9        1349.000000  0.500000  0.570000  0.825000  3.000000  1.000000\n",
       "       10       1099.428571  2.142857  0.512857  0.421429  2.571429  2.000000\n",
       "       12       1661.000000  2.000000  0.720000  0.250000  3.500000  5.500000\n",
       "       13        906.000000  4.000000  0.720000  0.300000  4.500000  3.500000\n",
       "       14       1392.112069  1.543103  0.551724  0.427586  2.534483  4.112069\n",
       "male   0        3008.911019  0.136007  0.344703  0.694398  1.099585  0.924850\n",
       "       1        2485.158537  0.304878  0.286220  0.676341  1.743902  1.256098\n",
       "       2        2007.679245  0.471698  0.343585  0.653019  2.358491  1.547170\n",
       "       3        1909.068966  0.724138  0.334138  0.741379  2.137931  1.689655\n",
       "       4        1424.000000  0.722222  0.309444  0.869444  2.055556  2.000000\n",
       "       5        1437.272727  1.136364  0.331818  0.570455  2.272727  2.818182\n",
       "       6         562.000000  0.833333  0.340000  0.591667  2.500000  2.000000\n",
       "       7        1716.750000  0.750000  0.314167  0.655000  2.583333  4.333333\n",
       "       8         680.666667  1.333333  0.365000  0.833333  2.666667  2.000000\n",
       "       9        1375.400000  2.200000  0.310000  0.392000  2.400000  2.000000\n",
       "       10       1543.200000  1.800000  0.480000  0.590000  2.600000  4.600000\n",
       "       11        355.500000  5.000000  0.320000  1.000000  1.500000  0.500000\n",
       "       12        781.500000  2.000000  0.370000  0.515000  1.500000  1.000000\n",
       "       13        508.666667  4.000000  0.510000  0.350000  3.333333  2.333333\n",
       "       14       1236.069444  1.555556  0.476806  0.598611  2.375000  3.527778"
      ]
     },
     "execution_count": 15,
     "metadata": {},
     "output_type": "execute_result"
    }
   ],
   "source": [
    "df.groupby(['gender','reduced']).mean()"
   ]
  },
  {
   "cell_type": "markdown",
   "id": "d629c140",
   "metadata": {},
   "source": [
    "## Checking for missing values by using heat map"
   ]
  },
  {
   "cell_type": "code",
   "execution_count": 16,
   "id": "776e49d8",
   "metadata": {},
   "outputs": [
    {
     "data": {
      "text/plain": [
       "<Axes: >"
      ]
     },
     "execution_count": 16,
     "metadata": {},
     "output_type": "execute_result"
    },
    {
     "data": {
      "image/png": "[encoded data removed]",
      "text/plain": [
       "<Figure size 640x480 with 1 Axes>"
      ]
     },
     "metadata": {},
     "output_type": "display_data"
    }
   ],
   "source": [
    "sns.heatmap(df.isnull(),cbar=False,cmap=\n",
    "           'PiYG')"
   ]
  },
  {
   "cell_type": "markdown",
   "id": "fe2c3ec8",
   "metadata": {},
   "source": [
    "## Finding the correlation between the variables"
   ]
  },
  {
   "cell_type": "code",
   "execution_count": 17,
   "id": "276de1ab",
   "metadata": {},
   "outputs": [
    {
     "name": "stderr",
     "output_type": "stream",
     "text": [
      "C:\\Users\\rakes\\AppData\\Local\\Temp\\ipykernel_15720\\2521467563.py:2: FutureWarning: The default value of numeric_only in DataFrame.corr is deprecated. In a future version, it will default to False. Select only valid columns or specify the value of numeric_only to silence this warning.\n",
      "  sns.heatmap(df.corr(),cbar=True,annot=True,cmap='BuPu')\n"
     ]
    },
    {
     "data": {
      "text/plain": [
       "<Axes: >"
      ]
     },
     "execution_count": 17,
     "metadata": {},
     "output_type": "execute_result"
    },
    {
     "data": {
      "image/png": "[encoded data removed]",
      "text/plain": [
       "<Figure size 1500x1000 with 2 Axes>"
      ]
     },
     "metadata": {},
     "output_type": "display_data"
    }
   ],
   "source": [
    "plt.figure(figsize=(15,10))\n",
    "sns.heatmap(df.corr(),cbar=True,annot=True,cmap='BuPu')"
   ]
  },
  {
   "cell_type": "markdown",
   "id": "ba392deb",
   "metadata": {},
   "source": [
    "## Visualizing the income criteria of the patients"
   ]
  },
  {
   "cell_type": "code",
   "execution_count": 18,
   "id": "4e9a3c7a",
   "metadata": {},
   "outputs": [
    {
     "data": {
      "text/plain": [
       "Text(0, 0.5, 'Doctor visits')"
      ]
     },
     "execution_count": 18,
     "metadata": {},
     "output_type": "execute_result"
    },
    {
     "data": {
      "image/png": "[encoded data removed]",
      "text/plain": [
       "<Figure size 1000x1000 with 1 Axes>"
      ]
     },
     "metadata": {},
     "output_type": "display_data"
    }
   ],
   "source": [
    "# relation between income and doctor visit\n",
    "plt.figure(figsize=(10,10))\n",
    "plt.scatter(x='income',y='visits',data=df,color='red')\n",
    "plt.xlabel(\"Persons income\")\n",
    "plt.ylabel(\"Doctor visits\")"
   ]
  },
  {
   "cell_type": "markdown",
   "id": "adbc4115",
   "metadata": {},
   "source": [
    "## Visualizing the illness based on gender"
   ]
  },
  {
   "cell_type": "code",
   "execution_count": 19,
   "id": "a8cdb566",
   "metadata": {},
   "outputs": [
    {
     "data": {
      "text/plain": [
       "<Axes: xlabel='gender', ylabel='Count'>"
      ]
     },
     "execution_count": 19,
     "metadata": {},
     "output_type": "execute_result"
    },
    {
     "data": {
      "image/png": "[encoded data removed]",
      "text/plain": [
       "<Figure size 640x480 with 1 Axes>"
      ]
     },
     "metadata": {},
     "output_type": "display_data"
    }
   ],
   "source": [
    "sns.histplot(df.gender,bins=5, color='purple')"
   ]
  },
  {
   "cell_type": "markdown",
   "id": "1878a87e",
   "metadata": {},
   "source": [
    "## Visual classification of people getting government insurance based on their financial situations and low income"
   ]
  },
  {
   "cell_type": "code",
   "execution_count": 29,
   "id": "3dd1fa0d",
   "metadata": {},
   "outputs": [
    {
     "data": {
      "image/png": "[encoded data removed]",
      "text/plain": [
       "<Figure size 800x800 with 1 Axes>"
      ]
     },
     "metadata": {},
     "output_type": "display_data"
    }
   ],
   "source": [
    "# percentage of people getting government insurance \n",
    "df\n",
    "colors = ['#ff9999','#66b3ff','#99ff99','#ffcc99']\n",
    "label=['yes','no']\n",
    "Y=df[df['freepoor']=='yes']\n",
    "N=df[df['freepoor']=='no']\n",
    "x=[Y.shape[0],N.shape[0]]\n",
    "plt.figure(figsize=(8,8))\n",
    "plt.pie(x,labels=label, colors=colors)\n",
    "plt.title(\"Percentage of people getting Government insurance due to low income\")\n",
    "plt.show()"
   ]
  },
  {
   "cell_type": "code",
   "execution_count": 33,
   "id": "611dc63b",
   "metadata": {},
   "outputs": [
    {
     "data": {
      "text/plain": [
       "<function matplotlib.pyplot.show(close=None, block=None)>"
      ]
     },
     "execution_count": 33,
     "metadata": {},
     "output_type": "execute_result"
    },
    {
     "data": {
      "image/png": "[encoded data removed]",
      "text/plain": [
       "<Figure size 800x800 with 1 Axes>"
      ]
     },
     "metadata": {},
     "output_type": "display_data"
    }
   ],
   "source": [
    "# percentage of people who took private insurance\n",
    "colors = ['#c2c2f0','#ffb3e6', '#c2c2f0','#ffb3e6', '#c2c2f0','#ffb3e6', '#c2c2f0','#ffb3e6']\n",
    "Y=df[df['private']==\"yes\"]\n",
    "N=df[df['private']=='no']\n",
    "x=[Y.shape[0],N.shape[0]]\n",
    "plt.figure(figsize=(8,8))\n",
    "plt.pie(x,labels=label,colors=colors)\n",
    "plt.title(\"People percentage who took Private health insurance\")\n",
    "plt.show"
   ]
  },
  {
   "cell_type": "code",
   "execution_count": 35,
   "id": "44ecf6c6",
   "metadata": {},
   "outputs": [
    {
     "data": {
      "image/png": "[encoded data removed]",
      "text/plain": [
       "<Figure size 800x800 with 1 Axes>"
      ]
     },
     "metadata": {},
     "output_type": "display_data"
    }
   ],
   "source": [
    "# percentage of people taking government due to old age and disability\n",
    "colors = ['#ff6666', '#ffcc99', '#99ff99', '#66b3ff']\n",
    "Y=df[df['freerepat']=='yes']\n",
    "N=df[df['freerepat']=='no']\n",
    "x=[Y.shape[0],N.shape[0]]\n",
    "plt.figure(figsize=(8,8))\n",
    "plt.pie(x,labels=label, colors=colors)\n",
    "plt.title(\"percentage of people taking government due to old age and disability \")\n",
    "plt.show()"
   ]
  },
  {
   "cell_type": "markdown",
   "id": "a7ce8aaf",
   "metadata": {},
   "source": [
    "## Bar chart to analyse the reduced activity due to illness classified by gender"
   ]
  },
  {
   "cell_type": "code",
   "execution_count": 37,
   "id": "62b8ac71",
   "metadata": {},
   "outputs": [
    {
     "data": {
      "image/png": "[encoded data removed]",
      "text/plain": [
       "<Figure size 640x480 with 1 Axes>"
      ]
     },
     "metadata": {},
     "output_type": "display_data"
    }
   ],
   "source": [
    "db=df.groupby('gender')['reduced'].sum().to_frame().reset_index()\n",
    "plt.barh(db['gender'],db['reduced'],color=['darkslategrey','orangered'])\n",
    "plt.title(\"Activity bar chart\")\n",
    "plt.xlabel('gender')\n",
    "plt.ylabel('reduced activity')\n",
    "plt.show()"
   ]
  },
  {
   "cell_type": "code",
   "execution_count": null,
   "id": "640fa6df",
   "metadata": {},
   "outputs": [],
   "source": []
  }
 ],
 "metadata": {
  "kernelspec": {
   "display_name": "Python 3 (ipykernel)",
   "language": "python",
   "name": "python3"
  },
  "language_info": {
   "codemirror_mode": {
    "name": "ipython",
    "version": 3
   },
   "file_extension": ".py",
   "mimetype": "text/x-python",
   "name": "python",
   "nbconvert_exporter": "python",
   "pygments_lexer": "ipython3",
   "version": "3.10.9"
  }
 },
 "nbformat": 4,
 "nbformat_minor": 5
}
